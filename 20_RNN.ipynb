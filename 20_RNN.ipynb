{
  "nbformat": 4,
  "nbformat_minor": 0,
  "metadata": {
    "colab": {
      "provenance": [],
      "authorship_tag": "ABX9TyMW8Mwzb+UuxzB5LGzGCsai",
      "include_colab_link": true
    },
    "kernelspec": {
      "name": "python3",
      "display_name": "Python 3"
    },
    "language_info": {
      "name": "python"
    },
    "accelerator": "GPU",
    "gpuClass": "standard"
  },
  "cells": [
    {
      "cell_type": "markdown",
      "metadata": {
        "id": "view-in-github",
        "colab_type": "text"
      },
      "source": [
        "<a href=\"https://colab.research.google.com/github/djdongjae/MachineLearning/blob/main/20_RNN.ipynb\" target=\"_parent\"><img src=\"https://colab.research.google.com/assets/colab-badge.svg\" alt=\"Open In Colab\"/></a>"
      ]
    },
    {
      "cell_type": "code",
      "source": [
        "from tensorflow import keras"
      ],
      "metadata": {
        "id": "wXa-5m1otSLu"
      },
      "execution_count": 1,
      "outputs": []
    },
    {
      "cell_type": "code",
      "execution_count": 2,
      "metadata": {
        "id": "-I0oOJv3pewK"
      },
      "outputs": [],
      "source": [
        "from tensorflow.keras.datasets import imdb\n",
        "(train_input, train_target), (test_input, test_target) = imdb.load_data(num_words=500)"
      ]
    },
    {
      "cell_type": "code",
      "source": [
        "print(train_input.shape, test_input.shape)"
      ],
      "metadata": {
        "colab": {
          "base_uri": "https://localhost:8080/"
        },
        "id": "mrzCyPhwqSJ9",
        "outputId": "1fb25163-3918-4f64-8380-b607d19db2cf"
      },
      "execution_count": 3,
      "outputs": [
        {
          "output_type": "stream",
          "name": "stdout",
          "text": [
            "(25000,) (25000,)\n"
          ]
        }
      ]
    },
    {
      "cell_type": "code",
      "source": [
        "print(len(train_input[0]))"
      ],
      "metadata": {
        "colab": {
          "base_uri": "https://localhost:8080/"
        },
        "id": "qudk7ErsqYtL",
        "outputId": "0d9b09b6-e13a-425d-d7e7-ae7f43f52633"
      },
      "execution_count": 4,
      "outputs": [
        {
          "output_type": "stream",
          "name": "stdout",
          "text": [
            "218\n"
          ]
        }
      ]
    },
    {
      "cell_type": "code",
      "source": [
        "print(len(train_input[1]))"
      ],
      "metadata": {
        "colab": {
          "base_uri": "https://localhost:8080/"
        },
        "id": "3uwlBwxBqdsL",
        "outputId": "f9baa9fd-f4ab-41d4-9cf0-1d30f0e3fe14"
      },
      "execution_count": 5,
      "outputs": [
        {
          "output_type": "stream",
          "name": "stdout",
          "text": [
            "189\n"
          ]
        }
      ]
    },
    {
      "cell_type": "code",
      "source": [
        "print(train_input[0])"
      ],
      "metadata": {
        "colab": {
          "base_uri": "https://localhost:8080/"
        },
        "id": "U3iY5A7vqg17",
        "outputId": "1753874a-062a-4f65-9b80-15da9f49dbaf"
      },
      "execution_count": 6,
      "outputs": [
        {
          "output_type": "stream",
          "name": "stdout",
          "text": [
            "[1, 14, 22, 16, 43, 2, 2, 2, 2, 65, 458, 2, 66, 2, 4, 173, 36, 256, 5, 25, 100, 43, 2, 112, 50, 2, 2, 9, 35, 480, 284, 5, 150, 4, 172, 112, 167, 2, 336, 385, 39, 4, 172, 2, 2, 17, 2, 38, 13, 447, 4, 192, 50, 16, 6, 147, 2, 19, 14, 22, 4, 2, 2, 469, 4, 22, 71, 87, 12, 16, 43, 2, 38, 76, 15, 13, 2, 4, 22, 17, 2, 17, 12, 16, 2, 18, 2, 5, 62, 386, 12, 8, 316, 8, 106, 5, 4, 2, 2, 16, 480, 66, 2, 33, 4, 130, 12, 16, 38, 2, 5, 25, 124, 51, 36, 135, 48, 25, 2, 33, 6, 22, 12, 215, 28, 77, 52, 5, 14, 407, 16, 82, 2, 8, 4, 107, 117, 2, 15, 256, 4, 2, 7, 2, 5, 2, 36, 71, 43, 2, 476, 26, 400, 317, 46, 7, 4, 2, 2, 13, 104, 88, 4, 381, 15, 297, 98, 32, 2, 56, 26, 141, 6, 194, 2, 18, 4, 226, 22, 21, 134, 476, 26, 480, 5, 144, 30, 2, 18, 51, 36, 28, 224, 92, 25, 104, 4, 226, 65, 16, 38, 2, 88, 12, 16, 283, 5, 16, 2, 113, 103, 32, 15, 16, 2, 19, 178, 32]\n"
          ]
        }
      ]
    },
    {
      "cell_type": "code",
      "source": [
        "print(train_target[:20])"
      ],
      "metadata": {
        "colab": {
          "base_uri": "https://localhost:8080/"
        },
        "id": "dvCSb3tAqj7L",
        "outputId": "2e7ef560-ff1c-4229-f4d0-8e927049b742"
      },
      "execution_count": 7,
      "outputs": [
        {
          "output_type": "stream",
          "name": "stdout",
          "text": [
            "[1 0 0 1 0 0 1 0 1 0 1 0 0 0 0 0 1 1 0 1]\n"
          ]
        }
      ]
    },
    {
      "cell_type": "code",
      "source": [
        "from sklearn.model_selection import train_test_split\n",
        "train_input, val_input, train_target, val_target =\\\n",
        " train_test_split(train_input, train_target, test_size=0.2, random_state=42)"
      ],
      "metadata": {
        "id": "_PQ-pH_FqpB8"
      },
      "execution_count": 8,
      "outputs": []
    },
    {
      "cell_type": "code",
      "source": [
        "import numpy as np\n",
        "lengths = np.array([len(x) for x in train_input])"
      ],
      "metadata": {
        "id": "KqIxhmiwrFXL"
      },
      "execution_count": 9,
      "outputs": []
    },
    {
      "cell_type": "code",
      "source": [
        "print(np.mean(lengths), np.median(lengths))"
      ],
      "metadata": {
        "colab": {
          "base_uri": "https://localhost:8080/"
        },
        "id": "Qlj1iH1zrP2I",
        "outputId": "b6044a41-97cb-43a4-a2b9-3f5ce4c1bc28"
      },
      "execution_count": 10,
      "outputs": [
        {
          "output_type": "stream",
          "name": "stdout",
          "text": [
            "239.00925 178.0\n"
          ]
        }
      ]
    },
    {
      "cell_type": "code",
      "source": [
        "import matplotlib.pyplot as plt\n",
        "plt.hist(lengths)\n",
        "plt.xlabel('length')\n",
        "plt.ylabel('frequency')\n",
        "plt.show()"
      ],
      "metadata": {
        "colab": {
          "base_uri": "https://localhost:8080/",
          "height": 279
        },
        "id": "1m9q2Hu5rUxJ",
        "outputId": "19153b90-6d7f-4ced-ee51-d4484e70504e"
      },
      "execution_count": 11,
      "outputs": [
        {
          "output_type": "display_data",
          "data": {
            "text/plain": [
              "<Figure size 432x288 with 1 Axes>"
            ],
            "image/png": "[encoded data removed]"
          },
          "metadata": {
            "needs_background": "light"
          }
        }
      ]
    },
    {
      "cell_type": "code",
      "source": [
        "from tensorflow.keras.preprocessing.sequence import pad_sequences\n",
        "train_seq = pad_sequences(train_input, maxlen=100)"
      ],
      "metadata": {
        "id": "W-3tbc78r23s"
      },
      "execution_count": 12,
      "outputs": []
    },
    {
      "cell_type": "code",
      "source": [
        "print(train_seq.shape)"
      ],
      "metadata": {
        "colab": {
          "base_uri": "https://localhost:8080/"
        },
        "id": "dCZDr60DsDzh",
        "outputId": "22ba9687-a374-4dee-fba3-8118f5373249"
      },
      "execution_count": 13,
      "outputs": [
        {
          "output_type": "stream",
          "name": "stdout",
          "text": [
            "(20000, 100)\n"
          ]
        }
      ]
    },
    {
      "cell_type": "code",
      "source": [
        "print(train_seq[0])"
      ],
      "metadata": {
        "colab": {
          "base_uri": "https://localhost:8080/"
        },
        "id": "Vj8BpyvisI8a",
        "outputId": "f8740cdd-4348-4f43-a916-5331bc05252d"
      },
      "execution_count": 14,
      "outputs": [
        {
          "output_type": "stream",
          "name": "stdout",
          "text": [
            "[ 10   4  20   9   2 364 352   5  45   6   2   2  33 269   8   2 142   2\n",
            "   5   2  17  73  17 204   5   2  19  55   2   2  92  66 104  14  20  93\n",
            "  76   2 151  33   4  58  12 188   2 151  12 215  69 224 142  73 237   6\n",
            "   2   7   2   2 188   2 103  14  31  10  10 451   7   2   5   2  80  91\n",
            "   2  30   2  34  14  20 151  50  26 131  49   2  84  46  50  37  80  79\n",
            "   6   2  46   7  14  20  10  10 470 158]\n"
          ]
        }
      ]
    },
    {
      "cell_type": "code",
      "source": [
        "print(train_input[0][-10:])"
      ],
      "metadata": {
        "colab": {
          "base_uri": "https://localhost:8080/"
        },
        "id": "9ph1vbaosLy6",
        "outputId": "da419812-ee4b-48c8-a16f-41bd5ee9620b"
      },
      "execution_count": 15,
      "outputs": [
        {
          "output_type": "stream",
          "name": "stdout",
          "text": [
            "[6, 2, 46, 7, 14, 20, 10, 10, 470, 158]\n"
          ]
        }
      ]
    },
    {
      "cell_type": "code",
      "source": [
        "print(train_seq[5])"
      ],
      "metadata": {
        "colab": {
          "base_uri": "https://localhost:8080/"
        },
        "id": "6mx1vbhesQna",
        "outputId": "03676a8d-0b6d-4dcd-9fb0-16e0c32fbc04"
      },
      "execution_count": 16,
      "outputs": [
        {
          "output_type": "stream",
          "name": "stdout",
          "text": [
            "[  0   0   0   0   1   2 195  19  49   2   2 190   4   2 352   2 183  10\n",
            "  10  13  82  79   4   2  36  71 269   8   2  25  19  49   7   4   2   2\n",
            "   2   2   2  10  10  48  25  40   2  11   2   2  40   2   2   5   4   2\n",
            "   2  95  14 238  56 129   2  10  10  21   2  94 364 352   2   2  11 190\n",
            "  24 484   2   7  94 205 405  10  10  87   2  34  49   2   7   2   2   2\n",
            "   2   2 290   2  46  48  64  18   4   2]\n"
          ]
        }
      ]
    },
    {
      "cell_type": "code",
      "source": [
        "train_oh = keras.utils.to_categorical(train_seq)"
      ],
      "metadata": {
        "id": "6fGzVeiavp1x"
      },
      "execution_count": 17,
      "outputs": []
    },
    {
      "cell_type": "code",
      "source": [
        "print(train_oh.shape)"
      ],
      "metadata": {
        "colab": {
          "base_uri": "https://localhost:8080/"
        },
        "id": "l0QgP2GVvv86",
        "outputId": "06892b96-e4b2-43c5-f4d3-fc7a980e5ec2"
      },
      "execution_count": 18,
      "outputs": [
        {
          "output_type": "stream",
          "name": "stdout",
          "text": [
            "(20000, 100, 500)\n"
          ]
        }
      ]
    },
    {
      "cell_type": "code",
      "source": [
        "print(train_oh[0][0][:12])"
      ],
      "metadata": {
        "colab": {
          "base_uri": "https://localhost:8080/"
        },
        "id": "3Vnwqjd3vy7M",
        "outputId": "d9530f25-93ec-4331-f6d4-a0145be3c840"
      },
      "execution_count": 19,
      "outputs": [
        {
          "output_type": "stream",
          "name": "stdout",
          "text": [
            "[0. 0. 0. 0. 0. 0. 0. 0. 0. 0. 1. 0.]\n"
          ]
        }
      ]
    },
    {
      "cell_type": "code",
      "source": [
        "val_seq = pad_sequences(val_input, maxlen=100)"
      ],
      "metadata": {
        "id": "nnf9R08PtA3d"
      },
      "execution_count": 20,
      "outputs": []
    },
    {
      "cell_type": "code",
      "source": [
        "val_oh = keras.utils.to_categorical(val_seq)"
      ],
      "metadata": {
        "id": "OpdX_qJatHEa"
      },
      "execution_count": 21,
      "outputs": []
    },
    {
      "cell_type": "code",
      "source": [
        "model = keras.Sequential()\n",
        "model.add(keras.layers.SimpleRNN(8, input_shape=(100, 500)))\n",
        "model.add(keras.layers.Dense(1, activation = 'sigmoid'))"
      ],
      "metadata": {
        "id": "HQU7zvI3tMxB"
      },
      "execution_count": 22,
      "outputs": []
    },
    {
      "cell_type": "code",
      "source": [
        "model.summary()"
      ],
      "metadata": {
        "colab": {
          "base_uri": "https://localhost:8080/"
        },
        "id": "74EDYPphuNY6",
        "outputId": "17b94ffe-a26a-4a04-b4ac-9bb74361c797"
      },
      "execution_count": 23,
      "outputs": [
        {
          "output_type": "stream",
          "name": "stdout",
          "text": [
            "Model: \"sequential\"\n",
            "_________________________________________________________________\n",
            " Layer (type)                Output Shape              Param #   \n",
            "=================================================================\n",
            " simple_rnn (SimpleRNN)      (None, 8)                 4072      \n",
            "                                                                 \n",
            " dense (Dense)               (None, 1)                 9         \n",
            "                                                                 \n",
            "=================================================================\n",
            "Total params: 4,081\n",
            "Trainable params: 4,081\n",
            "Non-trainable params: 0\n",
            "_________________________________________________________________\n"
          ]
        }
      ]
    },
    {
      "cell_type": "code",
      "source": [
        "rmsprop = keras.optimizers.RMSprop(learning_rate=1e-4)\n",
        "model.compile(optimizer=rmsprop, loss='binary_crossentropy',\n",
        "              metrics=['accuracy'])\n",
        "checkpoint_cb = keras.callbacks.ModelCheckpoint('best_simplernn-model.h5', save_best_only=True)\n",
        "early_stopping_cb = keras.callbacks.EarlyStopping(patience=3, restore_best_weights=True)\n",
        "history = model.fit(train_oh, train_target, epochs=100, batch_size=64, validation_data=(val_oh, val_target), callbacks=[checkpoint_cb, early_stopping_cb])"
      ],
      "metadata": {
        "colab": {
          "base_uri": "https://localhost:8080/"
        },
        "id": "X0OdIFSquW9B",
        "outputId": "7866d81c-3f41-4849-cac1-e8aeeba77753"
      },
      "execution_count": 24,
      "outputs": [
        {
          "output_type": "stream",
          "name": "stdout",
          "text": [
            "Epoch 1/100\n",
            "313/313 [==============================] - 45s 124ms/step - loss: 0.6972 - accuracy: 0.5165 - val_loss: 0.6868 - val_accuracy: 0.5474\n",
            "Epoch 2/100\n",
            "313/313 [==============================] - 21s 68ms/step - loss: 0.6701 - accuracy: 0.5993 - val_loss: 0.6607 - val_accuracy: 0.6206\n",
            "Epoch 3/100\n",
            "313/313 [==============================] - 22s 70ms/step - loss: 0.6442 - accuracy: 0.6550 - val_loss: 0.6393 - val_accuracy: 0.6614\n",
            "Epoch 4/100\n",
            "313/313 [==============================] - 21s 69ms/step - loss: 0.6212 - accuracy: 0.6918 - val_loss: 0.6183 - val_accuracy: 0.6904\n",
            "Epoch 5/100\n",
            "313/313 [==============================] - 22s 69ms/step - loss: 0.6007 - accuracy: 0.7163 - val_loss: 0.6023 - val_accuracy: 0.6998\n",
            "Epoch 6/100\n",
            "313/313 [==============================] - 22s 70ms/step - loss: 0.5818 - accuracy: 0.7321 - val_loss: 0.5865 - val_accuracy: 0.7124\n",
            "Epoch 7/100\n",
            "313/313 [==============================] - 21s 68ms/step - loss: 0.5640 - accuracy: 0.7463 - val_loss: 0.5697 - val_accuracy: 0.7270\n",
            "Epoch 8/100\n",
            "313/313 [==============================] - 21s 68ms/step - loss: 0.5482 - accuracy: 0.7540 - val_loss: 0.5554 - val_accuracy: 0.7378\n",
            "Epoch 9/100\n",
            "313/313 [==============================] - 21s 68ms/step - loss: 0.5337 - accuracy: 0.7636 - val_loss: 0.5424 - val_accuracy: 0.7490\n",
            "Epoch 10/100\n",
            "313/313 [==============================] - 21s 67ms/step - loss: 0.5207 - accuracy: 0.7703 - val_loss: 0.5298 - val_accuracy: 0.7578\n",
            "Epoch 11/100\n",
            "313/313 [==============================] - 21s 67ms/step - loss: 0.5084 - accuracy: 0.7783 - val_loss: 0.5204 - val_accuracy: 0.7610\n",
            "Epoch 12/100\n",
            "313/313 [==============================] - 21s 69ms/step - loss: 0.4985 - accuracy: 0.7835 - val_loss: 0.5091 - val_accuracy: 0.7728\n",
            "Epoch 13/100\n",
            "313/313 [==============================] - 21s 67ms/step - loss: 0.4890 - accuracy: 0.7885 - val_loss: 0.5023 - val_accuracy: 0.7716\n",
            "Epoch 14/100\n",
            "313/313 [==============================] - 22s 70ms/step - loss: 0.4808 - accuracy: 0.7918 - val_loss: 0.5041 - val_accuracy: 0.7630\n",
            "Epoch 15/100\n",
            "313/313 [==============================] - 21s 67ms/step - loss: 0.4739 - accuracy: 0.7934 - val_loss: 0.4890 - val_accuracy: 0.7790\n",
            "Epoch 16/100\n",
            "313/313 [==============================] - 21s 69ms/step - loss: 0.4668 - accuracy: 0.7972 - val_loss: 0.4850 - val_accuracy: 0.7786\n",
            "Epoch 17/100\n",
            "313/313 [==============================] - 21s 67ms/step - loss: 0.4612 - accuracy: 0.7999 - val_loss: 0.4806 - val_accuracy: 0.7826\n",
            "Epoch 18/100\n",
            "313/313 [==============================] - 21s 66ms/step - loss: 0.4561 - accuracy: 0.8013 - val_loss: 0.4771 - val_accuracy: 0.7816\n",
            "Epoch 19/100\n",
            "313/313 [==============================] - 21s 66ms/step - loss: 0.4513 - accuracy: 0.8021 - val_loss: 0.4708 - val_accuracy: 0.7856\n",
            "Epoch 20/100\n",
            "313/313 [==============================] - 21s 67ms/step - loss: 0.4476 - accuracy: 0.8055 - val_loss: 0.4686 - val_accuracy: 0.7852\n",
            "Epoch 21/100\n",
            "313/313 [==============================] - 21s 67ms/step - loss: 0.4438 - accuracy: 0.8064 - val_loss: 0.4659 - val_accuracy: 0.7870\n",
            "Epoch 22/100\n",
            "313/313 [==============================] - 21s 67ms/step - loss: 0.4403 - accuracy: 0.8069 - val_loss: 0.4649 - val_accuracy: 0.7854\n",
            "Epoch 23/100\n",
            "313/313 [==============================] - 21s 67ms/step - loss: 0.4369 - accuracy: 0.8090 - val_loss: 0.4609 - val_accuracy: 0.7896\n",
            "Epoch 24/100\n",
            "313/313 [==============================] - 21s 67ms/step - loss: 0.4344 - accuracy: 0.8104 - val_loss: 0.4617 - val_accuracy: 0.7870\n",
            "Epoch 25/100\n",
            "313/313 [==============================] - 21s 68ms/step - loss: 0.4319 - accuracy: 0.8115 - val_loss: 0.4575 - val_accuracy: 0.7912\n",
            "Epoch 26/100\n",
            "313/313 [==============================] - 21s 67ms/step - loss: 0.4293 - accuracy: 0.8120 - val_loss: 0.4562 - val_accuracy: 0.7888\n",
            "Epoch 27/100\n",
            "313/313 [==============================] - 22s 70ms/step - loss: 0.4272 - accuracy: 0.8136 - val_loss: 0.4553 - val_accuracy: 0.7904\n",
            "Epoch 28/100\n",
            "313/313 [==============================] - 21s 67ms/step - loss: 0.4252 - accuracy: 0.8141 - val_loss: 0.4571 - val_accuracy: 0.7874\n",
            "Epoch 29/100\n",
            "313/313 [==============================] - 21s 66ms/step - loss: 0.4239 - accuracy: 0.8152 - val_loss: 0.4542 - val_accuracy: 0.7884\n",
            "Epoch 30/100\n",
            "313/313 [==============================] - 21s 66ms/step - loss: 0.4218 - accuracy: 0.8155 - val_loss: 0.4567 - val_accuracy: 0.7888\n",
            "Epoch 31/100\n",
            "313/313 [==============================] - 21s 67ms/step - loss: 0.4201 - accuracy: 0.8159 - val_loss: 0.4610 - val_accuracy: 0.7868\n",
            "Epoch 32/100\n",
            "313/313 [==============================] - 21s 66ms/step - loss: 0.4189 - accuracy: 0.8170 - val_loss: 0.4551 - val_accuracy: 0.7906\n"
          ]
        }
      ]
    },
    {
      "cell_type": "code",
      "source": [
        "plt.plot(history.history['loss'])\n",
        "plt.plot(history.history['val_loss'])\n",
        "plt.xlabel('epoch')\n",
        "plt.ylabel('loss')\n",
        "plt.legend(['train', 'val'])\n",
        "plt.show()"
      ],
      "metadata": {
        "colab": {
          "base_uri": "https://localhost:8080/",
          "height": 283
        },
        "id": "u_jdlLifvcmW",
        "outputId": "a88a61ff-9825-4e3d-decf-8a22603336e9"
      },
      "execution_count": 25,
      "outputs": [
        {
          "output_type": "execute_result",
          "data": {
            "text/plain": [
              "[]"
            ]
          },
          "metadata": {},
          "execution_count": 25
        },
        {
          "output_type": "display_data",
          "data": {
            "text/plain": [
              "<Figure size 432x288 with 1 Axes>"
            ],
            "image/png": "[encoded data removed]"
          },
          "metadata": {
            "needs_background": "light"
          }
        }
      ]
    },
    {
      "cell_type": "code",
      "source": [
        "print(train_seq.nbytes, train_oh.nbytes)"
      ],
      "metadata": {
        "colab": {
          "base_uri": "https://localhost:8080/"
        },
        "id": "ndMw1AI5wd3L",
        "outputId": "4e049a8c-cee0-44c1-dc49-5eace5e9c310"
      },
      "execution_count": 26,
      "outputs": [
        {
          "output_type": "stream",
          "name": "stdout",
          "text": [
            "8000000 4000000000\n"
          ]
        }
      ]
    },
    {
      "cell_type": "code",
      "source": [
        "model2 = keras.Sequential()\n",
        "model2.add(keras.layers.Embedding(500, 16, input_length=100))\n",
        "model2.add(keras.layers.SimpleRNN(8))\n",
        "model2.add(keras.layers.Dense(1, activation='sigmoid'))"
      ],
      "metadata": {
        "id": "6sIgVKLpwm9L"
      },
      "execution_count": 27,
      "outputs": []
    },
    {
      "cell_type": "code",
      "source": [
        "model2.summary()"
      ],
      "metadata": {
        "colab": {
          "base_uri": "https://localhost:8080/"
        },
        "id": "Es-pY-aRw-JY",
        "outputId": "d8c77e74-d25b-45b8-b062-96306bdc4868"
      },
      "execution_count": 28,
      "outputs": [
        {
          "output_type": "stream",
          "name": "stdout",
          "text": [
            "Model: \"sequential_1\"\n",
            "_________________________________________________________________\n",
            " Layer (type)                Output Shape              Param #   \n",
            "=================================================================\n",
            " embedding (Embedding)       (None, 100, 16)           8000      \n",
            "                                                                 \n",
            " simple_rnn_1 (SimpleRNN)    (None, 8)                 200       \n",
            "                                                                 \n",
            " dense_1 (Dense)             (None, 1)                 9         \n",
            "                                                                 \n",
            "=================================================================\n",
            "Total params: 8,209\n",
            "Trainable params: 8,209\n",
            "Non-trainable params: 0\n",
            "_________________________________________________________________\n"
          ]
        }
      ]
    },
    {
      "cell_type": "code",
      "source": [
        "rmsprop = keras.optimizers.RMSprop(learning_rate=1e-4)\n",
        "model2.compile(optimizer=rmsprop, loss='binary_crossentropy',\n",
        "              metrics=['accuracy'])\n",
        "checkpoint_cb = keras.callbacks.ModelCheckpoint('best-embedding-model.h5', save_best_only=True)\n",
        "early_stopping_cb = keras.callbacks.EarlyStopping(patience=3, restore_best_weights=True)\n",
        "history = model2.fit(train_seq, train_target, epochs=100, batch_size=64, validation_data=(val_seq, val_target), callbacks=[checkpoint_cb, early_stopping_cb])"
      ],
      "metadata": {
        "colab": {
          "base_uri": "https://localhost:8080/"
        },
        "id": "e7BnfKPuxBGS",
        "outputId": "d93d27c6-66f9-4642-e53b-e6696b5fc81b"
      },
      "execution_count": 29,
      "outputs": [
        {
          "output_type": "stream",
          "name": "stdout",
          "text": [
            "Epoch 1/100\n",
            "313/313 [==============================] - 30s 93ms/step - loss: 0.6955 - accuracy: 0.4965 - val_loss: 0.6927 - val_accuracy: 0.5126\n",
            "Epoch 2/100\n",
            "313/313 [==============================] - 29s 91ms/step - loss: 0.6921 - accuracy: 0.5189 - val_loss: 0.6916 - val_accuracy: 0.5276\n",
            "Epoch 3/100\n",
            "313/313 [==============================] - 29s 92ms/step - loss: 0.6900 - accuracy: 0.5360 - val_loss: 0.6905 - val_accuracy: 0.5348\n",
            "Epoch 4/100\n",
            "313/313 [==============================] - 28s 90ms/step - loss: 0.6878 - accuracy: 0.5476 - val_loss: 0.6894 - val_accuracy: 0.5382\n",
            "Epoch 5/100\n",
            "313/313 [==============================] - 28s 90ms/step - loss: 0.6850 - accuracy: 0.5598 - val_loss: 0.6879 - val_accuracy: 0.5470\n",
            "Epoch 6/100\n",
            "313/313 [==============================] - 29s 91ms/step - loss: 0.6794 - accuracy: 0.5906 - val_loss: 0.6733 - val_accuracy: 0.6256\n",
            "Epoch 7/100\n",
            "313/313 [==============================] - 29s 91ms/step - loss: 0.6574 - accuracy: 0.6737 - val_loss: 0.6499 - val_accuracy: 0.6824\n",
            "Epoch 8/100\n",
            "313/313 [==============================] - 28s 90ms/step - loss: 0.6315 - accuracy: 0.7127 - val_loss: 0.6238 - val_accuracy: 0.7194\n",
            "Epoch 9/100\n",
            "313/313 [==============================] - 29s 93ms/step - loss: 0.6066 - accuracy: 0.7365 - val_loss: 0.5990 - val_accuracy: 0.7388\n",
            "Epoch 10/100\n",
            "313/313 [==============================] - 28s 90ms/step - loss: 0.5838 - accuracy: 0.7477 - val_loss: 0.5868 - val_accuracy: 0.7308\n",
            "Epoch 11/100\n",
            "313/313 [==============================] - 29s 93ms/step - loss: 0.5620 - accuracy: 0.7610 - val_loss: 0.5595 - val_accuracy: 0.7536\n",
            "Epoch 12/100\n",
            "313/313 [==============================] - 29s 92ms/step - loss: 0.5440 - accuracy: 0.7668 - val_loss: 0.5481 - val_accuracy: 0.7572\n",
            "Epoch 13/100\n",
            "313/313 [==============================] - 28s 90ms/step - loss: 0.5264 - accuracy: 0.7771 - val_loss: 0.5334 - val_accuracy: 0.7610\n",
            "Epoch 14/100\n",
            "313/313 [==============================] - 28s 89ms/step - loss: 0.5114 - accuracy: 0.7811 - val_loss: 0.5173 - val_accuracy: 0.7728\n",
            "Epoch 15/100\n",
            "313/313 [==============================] - 29s 92ms/step - loss: 0.4998 - accuracy: 0.7847 - val_loss: 0.5124 - val_accuracy: 0.7666\n",
            "Epoch 16/100\n",
            "313/313 [==============================] - 28s 90ms/step - loss: 0.4888 - accuracy: 0.7886 - val_loss: 0.4994 - val_accuracy: 0.7794\n",
            "Epoch 17/100\n",
            "313/313 [==============================] - 29s 94ms/step - loss: 0.4795 - accuracy: 0.7910 - val_loss: 0.5028 - val_accuracy: 0.7694\n",
            "Epoch 18/100\n",
            "313/313 [==============================] - 28s 91ms/step - loss: 0.4724 - accuracy: 0.7932 - val_loss: 0.4926 - val_accuracy: 0.7726\n",
            "Epoch 19/100\n",
            "313/313 [==============================] - 29s 92ms/step - loss: 0.4649 - accuracy: 0.7974 - val_loss: 0.4908 - val_accuracy: 0.7738\n",
            "Epoch 20/100\n",
            "313/313 [==============================] - 28s 90ms/step - loss: 0.4590 - accuracy: 0.7992 - val_loss: 0.4822 - val_accuracy: 0.7830\n",
            "Epoch 21/100\n",
            "313/313 [==============================] - 28s 90ms/step - loss: 0.4541 - accuracy: 0.8012 - val_loss: 0.4817 - val_accuracy: 0.7800\n",
            "Epoch 22/100\n",
            "313/313 [==============================] - 28s 90ms/step - loss: 0.4498 - accuracy: 0.8031 - val_loss: 0.4767 - val_accuracy: 0.7804\n",
            "Epoch 23/100\n",
            "313/313 [==============================] - 28s 89ms/step - loss: 0.4461 - accuracy: 0.8059 - val_loss: 0.4779 - val_accuracy: 0.7780\n",
            "Epoch 24/100\n",
            "313/313 [==============================] - 28s 90ms/step - loss: 0.4422 - accuracy: 0.8073 - val_loss: 0.4867 - val_accuracy: 0.7708\n",
            "Epoch 25/100\n",
            "313/313 [==============================] - 29s 92ms/step - loss: 0.4388 - accuracy: 0.8089 - val_loss: 0.4778 - val_accuracy: 0.7788\n"
          ]
        }
      ]
    },
    {
      "cell_type": "code",
      "source": [
        "plt.plot(history.history['loss'])\n",
        "plt.plot(history.history['val_loss'])\n",
        "plt.xlabel('epoch')\n",
        "plt.ylabel('loss')\n",
        "plt.legend(['train', 'val'])\n",
        "plt.show()"
      ],
      "metadata": {
        "colab": {
          "base_uri": "https://localhost:8080/",
          "height": 279
        },
        "id": "wnvPA66UxVLR",
        "outputId": "bd08baa9-ef8d-4d63-a974-9a0c16641af4"
      },
      "execution_count": 30,
      "outputs": [
        {
          "output_type": "display_data",
          "data": {
            "text/plain": [
              "<Figure size 432x288 with 1 Axes>"
            ],
            "image/png": "[encoded data removed]"
          },
          "metadata": {
            "needs_background": "light"
          }
        }
      ]
    }
  ]
}