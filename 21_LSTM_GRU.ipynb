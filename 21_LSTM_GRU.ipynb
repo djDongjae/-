{
  "nbformat": 4,
  "nbformat_minor": 0,
  "metadata": {
    "colab": {
      "provenance": [],
      "authorship_tag": "ABX9TyPzcURkKnToGasgrPlbC5X4",
      "include_colab_link": true
    },
    "kernelspec": {
      "name": "python3",
      "display_name": "Python 3"
    },
    "language_info": {
      "name": "python"
    },
    "accelerator": "GPU",
    "gpuClass": "standard"
  },
  "cells": [
    {
      "cell_type": "markdown",
      "metadata": {
        "id": "view-in-github",
        "colab_type": "text"
      },
      "source": [
        "<a href=\"https://colab.research.google.com/github/djdongjae/MachineLearning/blob/main/21_LSTM_GRU.ipynb\" target=\"_parent\"><img src=\"https://colab.research.google.com/assets/colab-badge.svg\" alt=\"Open In Colab\"/></a>"
      ]
    },
    {
      "cell_type": "code",
      "execution_count": 1,
      "metadata": {
        "colab": {
          "base_uri": "https://localhost:8080/"
        },
        "id": "OPRKiqD7-uRb",
        "outputId": "63aead00-b311-42e1-f1db-506624111ace"
      },
      "outputs": [
        {
          "output_type": "stream",
          "name": "stdout",
          "text": [
            "Downloading data from https://storage.googleapis.com/tensorflow/tf-keras-datasets/imdb.npz\n",
            "17464789/17464789 [==============================] - 2s 0us/step\n"
          ]
        }
      ],
      "source": [
        "from tensorflow.keras.datasets import imdb\n",
        "from sklearn.model_selection import train_test_split\n",
        "(train_input, train_target), (test_input, test_target) = imdb.load_data(num_words=500)\n",
        "train_input, val_input, train_target, val_target = train_test_split(\n",
        "    train_input, train_target, test_size=0.2, random_state=42\n",
        ")"
      ]
    },
    {
      "cell_type": "code",
      "source": [
        "from tensorflow.keras.preprocessing.sequence import pad_sequences\n",
        "train_seq = pad_sequences(train_input, maxlen=100)\n",
        "val_seq = pad_sequences(val_input, maxlen=100)"
      ],
      "metadata": {
        "id": "Iq2oOcpp_idk"
      },
      "execution_count": 2,
      "outputs": []
    },
    {
      "cell_type": "code",
      "source": [
        "from tensorflow import keras\n",
        "model = keras.Sequential()\n",
        "model.add(keras.layers.Embedding(500, 16, input_length=100))\n",
        "model.add(keras.layers.LSTM(8))\n",
        "model.add(keras.layers.Dense(1, activation='sigmoid'))"
      ],
      "metadata": {
        "id": "yAZkISvC_ymz"
      },
      "execution_count": 3,
      "outputs": []
    },
    {
      "cell_type": "code",
      "source": [
        "model.summary()"
      ],
      "metadata": {
        "colab": {
          "base_uri": "https://localhost:8080/"
        },
        "id": "_3Q2NqA3AJu0",
        "outputId": "f3ec8170-c34f-4c35-ecfd-88beb95c68cd"
      },
      "execution_count": 4,
      "outputs": [
        {
          "output_type": "stream",
          "name": "stdout",
          "text": [
            "Model: \"sequential\"\n",
            "_________________________________________________________________\n",
            " Layer (type)                Output Shape              Param #   \n",
            "=================================================================\n",
            " embedding (Embedding)       (None, 100, 16)           8000      \n",
            "                                                                 \n",
            " lstm (LSTM)                 (None, 8)                 800       \n",
            "                                                                 \n",
            " dense (Dense)               (None, 1)                 9         \n",
            "                                                                 \n",
            "=================================================================\n",
            "Total params: 8,809\n",
            "Trainable params: 8,809\n",
            "Non-trainable params: 0\n",
            "_________________________________________________________________\n"
          ]
        }
      ]
    },
    {
      "cell_type": "code",
      "source": [
        "rmsprop = keras.optimizers.RMSprop(learning_rate=1e-4)\n",
        "model.compile(optimizer=rmsprop, loss='binary_crossentropy', metrics=['accuracy'])\n",
        "checkpoint_cb = keras.callbacks.ModelCheckpoint('best-lstm-model.h5', save_best_only=True)\n",
        "early_stopping_cb = keras.callbacks.EarlyStopping(patience=3, restore_best_weights=True)\n",
        "history = model.fit(\n",
        "    train_seq, train_target, epochs=100, batch_size=64,\n",
        "    validation_data=(val_seq, val_target),\n",
        "    callbacks=[checkpoint_cb, early_stopping_cb]\n",
        ")"
      ],
      "metadata": {
        "colab": {
          "base_uri": "https://localhost:8080/"
        },
        "id": "ulHsPUZfALYZ",
        "outputId": "ef45efbb-7bdb-4817-cdb0-288aaf7bba65"
      },
      "execution_count": 5,
      "outputs": [
        {
          "output_type": "stream",
          "name": "stdout",
          "text": [
            "Epoch 1/100\n",
            "313/313 [==============================] - 12s 11ms/step - loss: 0.6924 - accuracy: 0.5426 - val_loss: 0.6917 - val_accuracy: 0.5736\n",
            "Epoch 2/100\n",
            "313/313 [==============================] - 3s 9ms/step - loss: 0.6899 - accuracy: 0.6094 - val_loss: 0.6880 - val_accuracy: 0.6078\n",
            "Epoch 3/100\n",
            "313/313 [==============================] - 3s 8ms/step - loss: 0.6806 - accuracy: 0.6197 - val_loss: 0.6703 - val_accuracy: 0.5430\n",
            "Epoch 4/100\n",
            "313/313 [==============================] - 3s 8ms/step - loss: 0.6366 - accuracy: 0.6607 - val_loss: 0.6145 - val_accuracy: 0.7266\n",
            "Epoch 5/100\n",
            "313/313 [==============================] - 3s 8ms/step - loss: 0.5946 - accuracy: 0.7488 - val_loss: 0.5909 - val_accuracy: 0.7430\n",
            "Epoch 6/100\n",
            "313/313 [==============================] - 3s 8ms/step - loss: 0.5706 - accuracy: 0.7581 - val_loss: 0.5653 - val_accuracy: 0.7528\n",
            "Epoch 7/100\n",
            "313/313 [==============================] - 3s 8ms/step - loss: 0.5458 - accuracy: 0.7599 - val_loss: 0.5408 - val_accuracy: 0.7604\n",
            "Epoch 8/100\n",
            "313/313 [==============================] - 3s 8ms/step - loss: 0.5198 - accuracy: 0.7697 - val_loss: 0.5134 - val_accuracy: 0.7674\n",
            "Epoch 9/100\n",
            "313/313 [==============================] - 3s 8ms/step - loss: 0.4978 - accuracy: 0.7800 - val_loss: 0.4950 - val_accuracy: 0.7794\n",
            "Epoch 10/100\n",
            "313/313 [==============================] - 3s 8ms/step - loss: 0.4823 - accuracy: 0.7885 - val_loss: 0.4836 - val_accuracy: 0.7846\n",
            "Epoch 11/100\n",
            "313/313 [==============================] - 3s 9ms/step - loss: 0.4707 - accuracy: 0.7940 - val_loss: 0.4753 - val_accuracy: 0.7866\n",
            "Epoch 12/100\n",
            "313/313 [==============================] - 3s 8ms/step - loss: 0.4620 - accuracy: 0.7966 - val_loss: 0.4714 - val_accuracy: 0.7904\n",
            "Epoch 13/100\n",
            "313/313 [==============================] - 3s 8ms/step - loss: 0.4548 - accuracy: 0.7983 - val_loss: 0.4639 - val_accuracy: 0.7952\n",
            "Epoch 14/100\n",
            "313/313 [==============================] - 3s 9ms/step - loss: 0.4489 - accuracy: 0.8007 - val_loss: 0.4598 - val_accuracy: 0.7946\n",
            "Epoch 15/100\n",
            "313/313 [==============================] - 3s 8ms/step - loss: 0.4444 - accuracy: 0.8027 - val_loss: 0.4600 - val_accuracy: 0.7908\n",
            "Epoch 16/100\n",
            "313/313 [==============================] - 3s 9ms/step - loss: 0.4393 - accuracy: 0.8059 - val_loss: 0.4541 - val_accuracy: 0.7950\n",
            "Epoch 17/100\n",
            "313/313 [==============================] - 3s 8ms/step - loss: 0.4362 - accuracy: 0.8052 - val_loss: 0.4516 - val_accuracy: 0.7982\n",
            "Epoch 18/100\n",
            "313/313 [==============================] - 3s 8ms/step - loss: 0.4330 - accuracy: 0.8074 - val_loss: 0.4492 - val_accuracy: 0.7968\n",
            "Epoch 19/100\n",
            "313/313 [==============================] - 3s 8ms/step - loss: 0.4300 - accuracy: 0.8081 - val_loss: 0.4518 - val_accuracy: 0.7936\n",
            "Epoch 20/100\n",
            "313/313 [==============================] - 3s 8ms/step - loss: 0.4277 - accuracy: 0.8084 - val_loss: 0.4448 - val_accuracy: 0.7972\n",
            "Epoch 21/100\n",
            "313/313 [==============================] - 3s 8ms/step - loss: 0.4254 - accuracy: 0.8084 - val_loss: 0.4422 - val_accuracy: 0.7980\n",
            "Epoch 22/100\n",
            "313/313 [==============================] - 3s 8ms/step - loss: 0.4227 - accuracy: 0.8108 - val_loss: 0.4406 - val_accuracy: 0.8000\n",
            "Epoch 23/100\n",
            "313/313 [==============================] - 3s 8ms/step - loss: 0.4212 - accuracy: 0.8116 - val_loss: 0.4395 - val_accuracy: 0.7994\n",
            "Epoch 24/100\n",
            "313/313 [==============================] - 3s 10ms/step - loss: 0.4193 - accuracy: 0.8105 - val_loss: 0.4384 - val_accuracy: 0.8024\n",
            "Epoch 25/100\n",
            "313/313 [==============================] - 3s 8ms/step - loss: 0.4177 - accuracy: 0.8126 - val_loss: 0.4432 - val_accuracy: 0.7988\n",
            "Epoch 26/100\n",
            "313/313 [==============================] - 3s 8ms/step - loss: 0.4166 - accuracy: 0.8113 - val_loss: 0.4366 - val_accuracy: 0.8022\n",
            "Epoch 27/100\n",
            "313/313 [==============================] - 3s 9ms/step - loss: 0.4150 - accuracy: 0.8139 - val_loss: 0.4352 - val_accuracy: 0.8016\n",
            "Epoch 28/100\n",
            "313/313 [==============================] - 3s 8ms/step - loss: 0.4141 - accuracy: 0.8145 - val_loss: 0.4445 - val_accuracy: 0.7950\n",
            "Epoch 29/100\n",
            "313/313 [==============================] - 3s 8ms/step - loss: 0.4127 - accuracy: 0.8130 - val_loss: 0.4353 - val_accuracy: 0.7996\n",
            "Epoch 30/100\n",
            "313/313 [==============================] - 3s 8ms/step - loss: 0.4116 - accuracy: 0.8141 - val_loss: 0.4334 - val_accuracy: 0.8034\n",
            "Epoch 31/100\n",
            "313/313 [==============================] - 3s 8ms/step - loss: 0.4107 - accuracy: 0.8142 - val_loss: 0.4354 - val_accuracy: 0.8052\n",
            "Epoch 32/100\n",
            "313/313 [==============================] - 3s 8ms/step - loss: 0.4098 - accuracy: 0.8156 - val_loss: 0.4318 - val_accuracy: 0.8046\n",
            "Epoch 33/100\n",
            "313/313 [==============================] - 3s 8ms/step - loss: 0.4085 - accuracy: 0.8138 - val_loss: 0.4325 - val_accuracy: 0.8020\n",
            "Epoch 34/100\n",
            "313/313 [==============================] - 3s 9ms/step - loss: 0.4074 - accuracy: 0.8149 - val_loss: 0.4313 - val_accuracy: 0.8020\n",
            "Epoch 35/100\n",
            "313/313 [==============================] - 3s 8ms/step - loss: 0.4068 - accuracy: 0.8145 - val_loss: 0.4321 - val_accuracy: 0.8062\n",
            "Epoch 36/100\n",
            "313/313 [==============================] - 3s 8ms/step - loss: 0.4062 - accuracy: 0.8164 - val_loss: 0.4306 - val_accuracy: 0.8036\n",
            "Epoch 37/100\n",
            "313/313 [==============================] - 3s 8ms/step - loss: 0.4052 - accuracy: 0.8152 - val_loss: 0.4309 - val_accuracy: 0.8022\n",
            "Epoch 38/100\n",
            "313/313 [==============================] - 3s 8ms/step - loss: 0.4044 - accuracy: 0.8160 - val_loss: 0.4279 - val_accuracy: 0.8062\n",
            "Epoch 39/100\n",
            "313/313 [==============================] - 3s 8ms/step - loss: 0.4038 - accuracy: 0.8153 - val_loss: 0.4273 - val_accuracy: 0.8056\n",
            "Epoch 40/100\n",
            "313/313 [==============================] - 3s 8ms/step - loss: 0.4026 - accuracy: 0.8172 - val_loss: 0.4309 - val_accuracy: 0.8034\n",
            "Epoch 41/100\n",
            "313/313 [==============================] - 3s 8ms/step - loss: 0.4020 - accuracy: 0.8163 - val_loss: 0.4274 - val_accuracy: 0.8048\n",
            "Epoch 42/100\n",
            "313/313 [==============================] - 3s 8ms/step - loss: 0.4011 - accuracy: 0.8195 - val_loss: 0.4275 - val_accuracy: 0.8066\n"
          ]
        }
      ]
    },
    {
      "cell_type": "code",
      "source": [
        "import matplotlib.pyplot as plt\n",
        "plt.plot(history.history['loss'])\n",
        "plt.plot(history.history['val_loss'])\n",
        "plt.xlabel('epoch')\n",
        "plt.ylabel('loss')\n",
        "plt.legend(['train', 'val'])\n",
        "plt.show()"
      ],
      "metadata": {
        "colab": {
          "base_uri": "https://localhost:8080/",
          "height": 279
        },
        "id": "XWjNqUD7BL0X",
        "outputId": "eff363c1-0f58-4905-cd17-c6f3facb9ab4"
      },
      "execution_count": 6,
      "outputs": [
        {
          "output_type": "display_data",
          "data": {
            "text/plain": [
              "<Figure size 432x288 with 1 Axes>"
            ],
            "image/png": "[encoded data removed]"
          },
          "metadata": {
            "needs_background": "light"
          }
        }
      ]
    },
    {
      "cell_type": "code",
      "source": [
        "model2 = keras.Sequential()\n",
        "model2.add(keras.layers.Embedding(500, 16, input_length=100))\n",
        "model2.add(keras.layers.LSTM(8, dropout=0.3))\n",
        "model2.add(keras.layers.Dense(1, activation='sigmoid'))"
      ],
      "metadata": {
        "id": "Fhbkr_R4BwTe"
      },
      "execution_count": 7,
      "outputs": []
    },
    {
      "cell_type": "code",
      "source": [
        "rmsprop = keras.optimizers.RMSprop(learning_rate=1e-4)\n",
        "model2.compile(optimizer=rmsprop, loss='binary_crossentropy', metrics=['accuracy'])\n",
        "checkpoint_cb = keras.callbacks.ModelCheckpoint('best-dropout-model.h5', save_best_only=True)\n",
        "early_stopping_cb = keras.callbacks.EarlyStopping(patience=3, restore_best_weights=True)\n",
        "history = model2.fit(\n",
        "    train_seq, train_target, epochs=100, batch_size=64,\n",
        "    validation_data=(val_seq, val_target),\n",
        "    callbacks=[checkpoint_cb, early_stopping_cb]\n",
        ")"
      ],
      "metadata": {
        "colab": {
          "base_uri": "https://localhost:8080/"
        },
        "id": "CxnzXKx7BhtM",
        "outputId": "ae05a56e-d7fa-4bda-eb10-093bdd061511"
      },
      "execution_count": 8,
      "outputs": [
        {
          "output_type": "stream",
          "name": "stdout",
          "text": [
            "Epoch 1/100\n",
            "313/313 [==============================] - 5s 10ms/step - loss: 0.6925 - accuracy: 0.5494 - val_loss: 0.6918 - val_accuracy: 0.6190\n",
            "Epoch 2/100\n",
            "313/313 [==============================] - 3s 8ms/step - loss: 0.6903 - accuracy: 0.6098 - val_loss: 0.6882 - val_accuracy: 0.6672\n",
            "Epoch 3/100\n",
            "313/313 [==============================] - 3s 8ms/step - loss: 0.6812 - accuracy: 0.6610 - val_loss: 0.6680 - val_accuracy: 0.6356\n",
            "Epoch 4/100\n",
            "313/313 [==============================] - 3s 8ms/step - loss: 0.6382 - accuracy: 0.6974 - val_loss: 0.6220 - val_accuracy: 0.7016\n",
            "Epoch 5/100\n",
            "313/313 [==============================] - 3s 8ms/step - loss: 0.6099 - accuracy: 0.7132 - val_loss: 0.6018 - val_accuracy: 0.7240\n",
            "Epoch 6/100\n",
            "313/313 [==============================] - 3s 8ms/step - loss: 0.5927 - accuracy: 0.7262 - val_loss: 0.5816 - val_accuracy: 0.7390\n",
            "Epoch 7/100\n",
            "313/313 [==============================] - 3s 8ms/step - loss: 0.5712 - accuracy: 0.7414 - val_loss: 0.5608 - val_accuracy: 0.7484\n",
            "Epoch 8/100\n",
            "313/313 [==============================] - 3s 8ms/step - loss: 0.5519 - accuracy: 0.7521 - val_loss: 0.5416 - val_accuracy: 0.7602\n",
            "Epoch 9/100\n",
            "313/313 [==============================] - 3s 8ms/step - loss: 0.5321 - accuracy: 0.7627 - val_loss: 0.5219 - val_accuracy: 0.7690\n",
            "Epoch 10/100\n",
            "313/313 [==============================] - 3s 8ms/step - loss: 0.5142 - accuracy: 0.7723 - val_loss: 0.5056 - val_accuracy: 0.7762\n",
            "Epoch 11/100\n",
            "313/313 [==============================] - 3s 8ms/step - loss: 0.4975 - accuracy: 0.7826 - val_loss: 0.4943 - val_accuracy: 0.7832\n",
            "Epoch 12/100\n",
            "313/313 [==============================] - 3s 8ms/step - loss: 0.4876 - accuracy: 0.7831 - val_loss: 0.4843 - val_accuracy: 0.7868\n",
            "Epoch 13/100\n",
            "313/313 [==============================] - 3s 8ms/step - loss: 0.4767 - accuracy: 0.7882 - val_loss: 0.4764 - val_accuracy: 0.7882\n",
            "Epoch 14/100\n",
            "313/313 [==============================] - 3s 8ms/step - loss: 0.4703 - accuracy: 0.7918 - val_loss: 0.4701 - val_accuracy: 0.7892\n",
            "Epoch 15/100\n",
            "313/313 [==============================] - 3s 8ms/step - loss: 0.4624 - accuracy: 0.7933 - val_loss: 0.4666 - val_accuracy: 0.7922\n",
            "Epoch 16/100\n",
            "313/313 [==============================] - 3s 8ms/step - loss: 0.4583 - accuracy: 0.7972 - val_loss: 0.4647 - val_accuracy: 0.7904\n",
            "Epoch 17/100\n",
            "313/313 [==============================] - 3s 8ms/step - loss: 0.4524 - accuracy: 0.7984 - val_loss: 0.4581 - val_accuracy: 0.7906\n",
            "Epoch 18/100\n",
            "313/313 [==============================] - 3s 8ms/step - loss: 0.4505 - accuracy: 0.7981 - val_loss: 0.4595 - val_accuracy: 0.7888\n",
            "Epoch 19/100\n",
            "313/313 [==============================] - 3s 8ms/step - loss: 0.4442 - accuracy: 0.8003 - val_loss: 0.4511 - val_accuracy: 0.7936\n",
            "Epoch 20/100\n",
            "313/313 [==============================] - 3s 8ms/step - loss: 0.4408 - accuracy: 0.8031 - val_loss: 0.4490 - val_accuracy: 0.7954\n",
            "Epoch 21/100\n",
            "313/313 [==============================] - 3s 8ms/step - loss: 0.4396 - accuracy: 0.7993 - val_loss: 0.4464 - val_accuracy: 0.7968\n",
            "Epoch 22/100\n",
            "313/313 [==============================] - 3s 8ms/step - loss: 0.4366 - accuracy: 0.8019 - val_loss: 0.4495 - val_accuracy: 0.7954\n",
            "Epoch 23/100\n",
            "313/313 [==============================] - 3s 8ms/step - loss: 0.4321 - accuracy: 0.8049 - val_loss: 0.4433 - val_accuracy: 0.7986\n",
            "Epoch 24/100\n",
            "313/313 [==============================] - 3s 8ms/step - loss: 0.4300 - accuracy: 0.8055 - val_loss: 0.4425 - val_accuracy: 0.7950\n",
            "Epoch 25/100\n",
            "313/313 [==============================] - 3s 8ms/step - loss: 0.4300 - accuracy: 0.8053 - val_loss: 0.4466 - val_accuracy: 0.7972\n",
            "Epoch 26/100\n",
            "313/313 [==============================] - 3s 8ms/step - loss: 0.4257 - accuracy: 0.8069 - val_loss: 0.4405 - val_accuracy: 0.7950\n",
            "Epoch 27/100\n",
            "313/313 [==============================] - 3s 8ms/step - loss: 0.4281 - accuracy: 0.8078 - val_loss: 0.4387 - val_accuracy: 0.7972\n",
            "Epoch 28/100\n",
            "313/313 [==============================] - 3s 8ms/step - loss: 0.4250 - accuracy: 0.8081 - val_loss: 0.4397 - val_accuracy: 0.7914\n",
            "Epoch 29/100\n",
            "313/313 [==============================] - 3s 8ms/step - loss: 0.4228 - accuracy: 0.8070 - val_loss: 0.4356 - val_accuracy: 0.8022\n",
            "Epoch 30/100\n",
            "313/313 [==============================] - 3s 8ms/step - loss: 0.4221 - accuracy: 0.8061 - val_loss: 0.4343 - val_accuracy: 0.8016\n",
            "Epoch 31/100\n",
            "313/313 [==============================] - 3s 10ms/step - loss: 0.4218 - accuracy: 0.8088 - val_loss: 0.4347 - val_accuracy: 0.7988\n",
            "Epoch 32/100\n",
            "313/313 [==============================] - 3s 9ms/step - loss: 0.4204 - accuracy: 0.8080 - val_loss: 0.4329 - val_accuracy: 0.8010\n",
            "Epoch 33/100\n",
            "313/313 [==============================] - 3s 8ms/step - loss: 0.4185 - accuracy: 0.8119 - val_loss: 0.4344 - val_accuracy: 0.8020\n",
            "Epoch 34/100\n",
            "313/313 [==============================] - 3s 9ms/step - loss: 0.4178 - accuracy: 0.8097 - val_loss: 0.4333 - val_accuracy: 0.8018\n",
            "Epoch 35/100\n",
            "313/313 [==============================] - 3s 8ms/step - loss: 0.4192 - accuracy: 0.8088 - val_loss: 0.4330 - val_accuracy: 0.8000\n"
          ]
        }
      ]
    },
    {
      "cell_type": "code",
      "source": [
        "import matplotlib.pyplot as plt\n",
        "plt.plot(history.history['loss'])\n",
        "plt.plot(history.history['val_loss'])\n",
        "plt.xlabel('epoch')\n",
        "plt.ylabel('loss')\n",
        "plt.legend(['train', 'val'])\n",
        "plt.show()"
      ],
      "metadata": {
        "colab": {
          "base_uri": "https://localhost:8080/",
          "height": 279
        },
        "id": "u_XevdLMCNB5",
        "outputId": "9ea2501c-bd52-44da-e20a-34d395babfdd"
      },
      "execution_count": 9,
      "outputs": [
        {
          "output_type": "display_data",
          "data": {
            "text/plain": [
              "<Figure size 432x288 with 1 Axes>"
            ],
            "image/png": "[encoded data removed]"
          },
          "metadata": {
            "needs_background": "light"
          }
        }
      ]
    },
    {
      "cell_type": "code",
      "source": [
        "model3 = keras.Sequential()\n",
        "model3.add(keras.layers.Embedding(500, 16, input_length=100))\n",
        "model3.add(keras.layers.LSTM(8, dropout=0.3, return_sequences=True))\n",
        "model3.add(keras.layers.LSTM(8, dropout=0.3))\n",
        "model3.add(keras.layers.Dense(1, activation='sigmoid'))"
      ],
      "metadata": {
        "id": "4lAxnZGACS45"
      },
      "execution_count": 10,
      "outputs": []
    },
    {
      "cell_type": "code",
      "source": [
        "model.summary()"
      ],
      "metadata": {
        "colab": {
          "base_uri": "https://localhost:8080/"
        },
        "id": "78u2vNQYCxxX",
        "outputId": "5728bac7-4371-43f4-d100-cb4636d63042"
      },
      "execution_count": 11,
      "outputs": [
        {
          "output_type": "stream",
          "name": "stdout",
          "text": [
            "Model: \"sequential\"\n",
            "_________________________________________________________________\n",
            " Layer (type)                Output Shape              Param #   \n",
            "=================================================================\n",
            " embedding (Embedding)       (None, 100, 16)           8000      \n",
            "                                                                 \n",
            " lstm (LSTM)                 (None, 8)                 800       \n",
            "                                                                 \n",
            " dense (Dense)               (None, 1)                 9         \n",
            "                                                                 \n",
            "=================================================================\n",
            "Total params: 8,809\n",
            "Trainable params: 8,809\n",
            "Non-trainable params: 0\n",
            "_________________________________________________________________\n"
          ]
        }
      ]
    },
    {
      "cell_type": "code",
      "source": [
        "rmsprop = keras.optimizers.RMSprop(learning_rate=1e-4)\n",
        "model3.compile(optimizer=rmsprop, loss='binary_crossentropy', metrics=['accuracy'])\n",
        "checkpoint_cb = keras.callbacks.ModelCheckpoint('best-2rnn-model.h5', save_best_only=True)\n",
        "early_stopping_cb = keras.callbacks.EarlyStopping(patience=3, restore_best_weights=True)\n",
        "history = model3.fit(\n",
        "    train_seq, train_target, epochs=100, batch_size=64,\n",
        "    validation_data=(val_seq, val_target),\n",
        "    callbacks=[checkpoint_cb, early_stopping_cb]\n",
        ")"
      ],
      "metadata": {
        "colab": {
          "base_uri": "https://localhost:8080/"
        },
        "id": "LwLbfxssCzED",
        "outputId": "72b63646-75d2-466c-a5b6-7a98cab2fbd3"
      },
      "execution_count": 12,
      "outputs": [
        {
          "output_type": "stream",
          "name": "stdout",
          "text": [
            "Epoch 1/100\n",
            "313/313 [==============================] - 8s 15ms/step - loss: 0.6923 - accuracy: 0.5454 - val_loss: 0.6912 - val_accuracy: 0.6116\n",
            "Epoch 2/100\n",
            "313/313 [==============================] - 4s 13ms/step - loss: 0.6871 - accuracy: 0.6047 - val_loss: 0.6788 - val_accuracy: 0.6204\n",
            "Epoch 3/100\n",
            "313/313 [==============================] - 4s 13ms/step - loss: 0.6571 - accuracy: 0.6530 - val_loss: 0.6263 - val_accuracy: 0.6990\n",
            "Epoch 4/100\n",
            "313/313 [==============================] - 4s 13ms/step - loss: 0.6064 - accuracy: 0.7088 - val_loss: 0.5824 - val_accuracy: 0.7318\n",
            "Epoch 5/100\n",
            "313/313 [==============================] - 4s 12ms/step - loss: 0.5709 - accuracy: 0.7311 - val_loss: 0.5533 - val_accuracy: 0.7414\n",
            "Epoch 6/100\n",
            "313/313 [==============================] - 4s 12ms/step - loss: 0.5466 - accuracy: 0.7442 - val_loss: 0.5418 - val_accuracy: 0.7302\n",
            "Epoch 7/100\n",
            "313/313 [==============================] - 4s 13ms/step - loss: 0.5238 - accuracy: 0.7552 - val_loss: 0.5132 - val_accuracy: 0.7604\n",
            "Epoch 8/100\n",
            "313/313 [==============================] - 4s 12ms/step - loss: 0.5063 - accuracy: 0.7668 - val_loss: 0.4968 - val_accuracy: 0.7686\n",
            "Epoch 9/100\n",
            "313/313 [==============================] - 4s 12ms/step - loss: 0.4954 - accuracy: 0.7700 - val_loss: 0.4867 - val_accuracy: 0.7752\n",
            "Epoch 10/100\n",
            "313/313 [==============================] - 4s 12ms/step - loss: 0.4854 - accuracy: 0.7782 - val_loss: 0.4790 - val_accuracy: 0.7784\n",
            "Epoch 11/100\n",
            "313/313 [==============================] - 4s 12ms/step - loss: 0.4767 - accuracy: 0.7818 - val_loss: 0.4722 - val_accuracy: 0.7808\n",
            "Epoch 12/100\n",
            "313/313 [==============================] - 4s 12ms/step - loss: 0.4694 - accuracy: 0.7850 - val_loss: 0.4675 - val_accuracy: 0.7858\n",
            "Epoch 13/100\n",
            "313/313 [==============================] - 4s 12ms/step - loss: 0.4654 - accuracy: 0.7833 - val_loss: 0.4627 - val_accuracy: 0.7888\n",
            "Epoch 14/100\n",
            "313/313 [==============================] - 4s 13ms/step - loss: 0.4601 - accuracy: 0.7894 - val_loss: 0.4596 - val_accuracy: 0.7890\n",
            "Epoch 15/100\n",
            "313/313 [==============================] - 4s 13ms/step - loss: 0.4546 - accuracy: 0.7932 - val_loss: 0.4575 - val_accuracy: 0.7892\n",
            "Epoch 16/100\n",
            "313/313 [==============================] - 4s 13ms/step - loss: 0.4524 - accuracy: 0.7922 - val_loss: 0.4533 - val_accuracy: 0.7914\n",
            "Epoch 17/100\n",
            "313/313 [==============================] - 4s 12ms/step - loss: 0.4490 - accuracy: 0.7977 - val_loss: 0.4548 - val_accuracy: 0.7900\n",
            "Epoch 18/100\n",
            "313/313 [==============================] - 4s 12ms/step - loss: 0.4449 - accuracy: 0.7962 - val_loss: 0.4516 - val_accuracy: 0.7924\n",
            "Epoch 19/100\n",
            "313/313 [==============================] - 4s 13ms/step - loss: 0.4435 - accuracy: 0.7987 - val_loss: 0.4514 - val_accuracy: 0.7892\n",
            "Epoch 20/100\n",
            "313/313 [==============================] - 4s 12ms/step - loss: 0.4415 - accuracy: 0.7976 - val_loss: 0.4456 - val_accuracy: 0.7926\n",
            "Epoch 21/100\n",
            "313/313 [==============================] - 4s 12ms/step - loss: 0.4400 - accuracy: 0.7969 - val_loss: 0.4441 - val_accuracy: 0.7934\n",
            "Epoch 22/100\n",
            "313/313 [==============================] - 4s 12ms/step - loss: 0.4374 - accuracy: 0.7979 - val_loss: 0.4452 - val_accuracy: 0.7978\n",
            "Epoch 23/100\n",
            "313/313 [==============================] - 4s 13ms/step - loss: 0.4368 - accuracy: 0.7992 - val_loss: 0.4425 - val_accuracy: 0.7968\n",
            "Epoch 24/100\n",
            "313/313 [==============================] - 4s 12ms/step - loss: 0.4341 - accuracy: 0.8015 - val_loss: 0.4423 - val_accuracy: 0.7982\n",
            "Epoch 25/100\n",
            "313/313 [==============================] - 4s 12ms/step - loss: 0.4337 - accuracy: 0.8031 - val_loss: 0.4401 - val_accuracy: 0.7990\n",
            "Epoch 26/100\n",
            "313/313 [==============================] - 4s 12ms/step - loss: 0.4329 - accuracy: 0.8033 - val_loss: 0.4391 - val_accuracy: 0.7932\n",
            "Epoch 27/100\n",
            "313/313 [==============================] - 4s 13ms/step - loss: 0.4281 - accuracy: 0.8033 - val_loss: 0.4400 - val_accuracy: 0.7888\n",
            "Epoch 28/100\n",
            "313/313 [==============================] - 4s 13ms/step - loss: 0.4294 - accuracy: 0.8009 - val_loss: 0.4428 - val_accuracy: 0.7988\n",
            "Epoch 29/100\n",
            "313/313 [==============================] - 4s 13ms/step - loss: 0.4292 - accuracy: 0.8030 - val_loss: 0.4365 - val_accuracy: 0.7944\n",
            "Epoch 30/100\n",
            "313/313 [==============================] - 4s 12ms/step - loss: 0.4248 - accuracy: 0.8066 - val_loss: 0.4368 - val_accuracy: 0.7964\n",
            "Epoch 31/100\n",
            "313/313 [==============================] - 4s 13ms/step - loss: 0.4271 - accuracy: 0.8034 - val_loss: 0.4358 - val_accuracy: 0.7962\n",
            "Epoch 32/100\n",
            "313/313 [==============================] - 4s 12ms/step - loss: 0.4259 - accuracy: 0.8044 - val_loss: 0.4351 - val_accuracy: 0.7934\n",
            "Epoch 33/100\n",
            "313/313 [==============================] - 4s 13ms/step - loss: 0.4247 - accuracy: 0.8048 - val_loss: 0.4350 - val_accuracy: 0.8012\n",
            "Epoch 34/100\n",
            "313/313 [==============================] - 4s 13ms/step - loss: 0.4232 - accuracy: 0.8062 - val_loss: 0.4347 - val_accuracy: 0.7950\n",
            "Epoch 35/100\n",
            "313/313 [==============================] - 4s 12ms/step - loss: 0.4233 - accuracy: 0.8056 - val_loss: 0.4357 - val_accuracy: 0.7944\n",
            "Epoch 36/100\n",
            "313/313 [==============================] - 4s 12ms/step - loss: 0.4221 - accuracy: 0.8076 - val_loss: 0.4337 - val_accuracy: 0.7950\n",
            "Epoch 37/100\n",
            "313/313 [==============================] - 4s 13ms/step - loss: 0.4189 - accuracy: 0.8088 - val_loss: 0.4343 - val_accuracy: 0.8002\n",
            "Epoch 38/100\n",
            "313/313 [==============================] - 4s 12ms/step - loss: 0.4211 - accuracy: 0.8103 - val_loss: 0.4341 - val_accuracy: 0.7958\n",
            "Epoch 39/100\n",
            "313/313 [==============================] - 4s 14ms/step - loss: 0.4200 - accuracy: 0.8063 - val_loss: 0.4332 - val_accuracy: 0.7986\n",
            "Epoch 40/100\n",
            "313/313 [==============================] - 4s 13ms/step - loss: 0.4180 - accuracy: 0.8084 - val_loss: 0.4332 - val_accuracy: 0.7936\n",
            "Epoch 41/100\n",
            "313/313 [==============================] - 4s 12ms/step - loss: 0.4183 - accuracy: 0.8076 - val_loss: 0.4334 - val_accuracy: 0.8014\n",
            "Epoch 42/100\n",
            "313/313 [==============================] - 4s 12ms/step - loss: 0.4166 - accuracy: 0.8089 - val_loss: 0.4355 - val_accuracy: 0.7936\n",
            "Epoch 43/100\n",
            "313/313 [==============================] - 4s 12ms/step - loss: 0.4165 - accuracy: 0.8091 - val_loss: 0.4328 - val_accuracy: 0.8014\n",
            "Epoch 44/100\n",
            "313/313 [==============================] - 4s 12ms/step - loss: 0.4156 - accuracy: 0.8080 - val_loss: 0.4318 - val_accuracy: 0.7966\n",
            "Epoch 45/100\n",
            "313/313 [==============================] - 4s 12ms/step - loss: 0.4153 - accuracy: 0.8094 - val_loss: 0.4325 - val_accuracy: 0.7942\n",
            "Epoch 46/100\n",
            "313/313 [==============================] - 4s 12ms/step - loss: 0.4168 - accuracy: 0.8104 - val_loss: 0.4326 - val_accuracy: 0.8016\n",
            "Epoch 47/100\n",
            "313/313 [==============================] - 4s 13ms/step - loss: 0.4157 - accuracy: 0.8102 - val_loss: 0.4334 - val_accuracy: 0.7948\n"
          ]
        }
      ]
    },
    {
      "cell_type": "code",
      "source": [
        "import matplotlib.pyplot as plt\n",
        "plt.plot(history.history['loss'])\n",
        "plt.plot(history.history['val_loss'])\n",
        "plt.xlabel('epoch')\n",
        "plt.ylabel('loss')\n",
        "plt.legend(['train', 'val'])\n",
        "plt.show()"
      ],
      "metadata": {
        "colab": {
          "base_uri": "https://localhost:8080/",
          "height": 279
        },
        "id": "MOAPMgP0DClc",
        "outputId": "985c6f1c-3f68-495d-b5e5-f4a5b49b2d60"
      },
      "execution_count": 13,
      "outputs": [
        {
          "output_type": "display_data",
          "data": {
            "text/plain": [
              "<Figure size 432x288 with 1 Axes>"
            ],
            "image/png": "[encoded data removed]"
          },
          "metadata": {
            "needs_background": "light"
          }
        }
      ]
    },
    {
      "cell_type": "code",
      "source": [
        "model4 = keras.Sequential()\n",
        "model4.add(keras.layers.Embedding(500, 16, input_length=100))\n",
        "model4.add(keras.layers.GRU(8))\n",
        "model4.add(keras.layers.Dense(1, activation='sigmoid'))"
      ],
      "metadata": {
        "id": "E2bRwqd6DEn3"
      },
      "execution_count": 14,
      "outputs": []
    },
    {
      "cell_type": "code",
      "source": [
        "model4.summary()"
      ],
      "metadata": {
        "colab": {
          "base_uri": "https://localhost:8080/"
        },
        "id": "rI5szuKHDWu9",
        "outputId": "1058575e-3c3e-4f36-a4d2-6a514bdade00"
      },
      "execution_count": 15,
      "outputs": [
        {
          "output_type": "stream",
          "name": "stdout",
          "text": [
            "Model: \"sequential_3\"\n",
            "_________________________________________________________________\n",
            " Layer (type)                Output Shape              Param #   \n",
            "=================================================================\n",
            " embedding_3 (Embedding)     (None, 100, 16)           8000      \n",
            "                                                                 \n",
            " gru (GRU)                   (None, 8)                 624       \n",
            "                                                                 \n",
            " dense_3 (Dense)             (None, 1)                 9         \n",
            "                                                                 \n",
            "=================================================================\n",
            "Total params: 8,633\n",
            "Trainable params: 8,633\n",
            "Non-trainable params: 0\n",
            "_________________________________________________________________\n"
          ]
        }
      ]
    },
    {
      "cell_type": "code",
      "source": [
        "rmsprop = keras.optimizers.RMSprop(learning_rate=1e-4)\n",
        "model4.compile(optimizer=rmsprop, loss='binary_crossentropy', metrics=['accuracy'])\n",
        "checkpoint_cb = keras.callbacks.ModelCheckpoint('best-gru-model.h5', save_best_only=True)\n",
        "early_stopping_cb = keras.callbacks.EarlyStopping(patience=3, restore_best_weights=True)\n",
        "history = model4.fit(\n",
        "    train_seq, train_target, epochs=100, batch_size=64,\n",
        "    validation_data=(val_seq, val_target),\n",
        "    callbacks=[checkpoint_cb, early_stopping_cb]\n",
        ")"
      ],
      "metadata": {
        "colab": {
          "base_uri": "https://localhost:8080/"
        },
        "id": "CaHLlCRkDZnt",
        "outputId": "9fb2fab4-68b2-4229-fe90-f45b5ff03755"
      },
      "execution_count": 16,
      "outputs": [
        {
          "output_type": "stream",
          "name": "stdout",
          "text": [
            "Epoch 1/100\n",
            "313/313 [==============================] - 5s 10ms/step - loss: 0.6929 - accuracy: 0.5077 - val_loss: 0.6923 - val_accuracy: 0.5374\n",
            "Epoch 2/100\n",
            "313/313 [==============================] - 3s 8ms/step - loss: 0.6916 - accuracy: 0.5528 - val_loss: 0.6908 - val_accuracy: 0.5660\n",
            "Epoch 3/100\n",
            "313/313 [==============================] - 2s 8ms/step - loss: 0.6895 - accuracy: 0.5805 - val_loss: 0.6885 - val_accuracy: 0.5724\n",
            "Epoch 4/100\n",
            "313/313 [==============================] - 3s 8ms/step - loss: 0.6861 - accuracy: 0.5982 - val_loss: 0.6846 - val_accuracy: 0.5918\n",
            "Epoch 5/100\n",
            "313/313 [==============================] - 3s 8ms/step - loss: 0.6806 - accuracy: 0.6086 - val_loss: 0.6783 - val_accuracy: 0.6034\n",
            "Epoch 6/100\n",
            "313/313 [==============================] - 3s 10ms/step - loss: 0.6724 - accuracy: 0.6234 - val_loss: 0.6697 - val_accuracy: 0.6086\n",
            "Epoch 7/100\n",
            "313/313 [==============================] - 3s 8ms/step - loss: 0.6607 - accuracy: 0.6364 - val_loss: 0.6571 - val_accuracy: 0.6242\n",
            "Epoch 8/100\n",
            "313/313 [==============================] - 3s 8ms/step - loss: 0.6440 - accuracy: 0.6479 - val_loss: 0.6392 - val_accuracy: 0.6414\n",
            "Epoch 9/100\n",
            "313/313 [==============================] - 3s 8ms/step - loss: 0.6196 - accuracy: 0.6695 - val_loss: 0.6124 - val_accuracy: 0.6682\n",
            "Epoch 10/100\n",
            "313/313 [==============================] - 3s 8ms/step - loss: 0.5831 - accuracy: 0.6957 - val_loss: 0.5697 - val_accuracy: 0.7094\n",
            "Epoch 11/100\n",
            "313/313 [==============================] - 2s 8ms/step - loss: 0.5313 - accuracy: 0.7362 - val_loss: 0.5242 - val_accuracy: 0.7388\n",
            "Epoch 12/100\n",
            "313/313 [==============================] - 2s 8ms/step - loss: 0.5012 - accuracy: 0.7566 - val_loss: 0.5059 - val_accuracy: 0.7532\n",
            "Epoch 13/100\n",
            "313/313 [==============================] - 2s 8ms/step - loss: 0.4851 - accuracy: 0.7685 - val_loss: 0.4913 - val_accuracy: 0.7662\n",
            "Epoch 14/100\n",
            "313/313 [==============================] - 3s 8ms/step - loss: 0.4727 - accuracy: 0.7778 - val_loss: 0.4812 - val_accuracy: 0.7724\n",
            "Epoch 15/100\n",
            "313/313 [==============================] - 2s 8ms/step - loss: 0.4632 - accuracy: 0.7843 - val_loss: 0.4731 - val_accuracy: 0.7804\n",
            "Epoch 16/100\n",
            "313/313 [==============================] - 2s 8ms/step - loss: 0.4554 - accuracy: 0.7890 - val_loss: 0.4664 - val_accuracy: 0.7832\n",
            "Epoch 17/100\n",
            "313/313 [==============================] - 2s 8ms/step - loss: 0.4490 - accuracy: 0.7938 - val_loss: 0.4615 - val_accuracy: 0.7838\n",
            "Epoch 18/100\n",
            "313/313 [==============================] - 2s 8ms/step - loss: 0.4437 - accuracy: 0.7962 - val_loss: 0.4614 - val_accuracy: 0.7790\n",
            "Epoch 19/100\n",
            "313/313 [==============================] - 3s 8ms/step - loss: 0.4394 - accuracy: 0.7993 - val_loss: 0.4543 - val_accuracy: 0.7866\n",
            "Epoch 20/100\n",
            "313/313 [==============================] - 2s 8ms/step - loss: 0.4356 - accuracy: 0.8029 - val_loss: 0.4541 - val_accuracy: 0.7924\n",
            "Epoch 21/100\n",
            "313/313 [==============================] - 3s 8ms/step - loss: 0.4323 - accuracy: 0.8043 - val_loss: 0.4499 - val_accuracy: 0.7906\n",
            "Epoch 22/100\n",
            "313/313 [==============================] - 3s 8ms/step - loss: 0.4297 - accuracy: 0.8069 - val_loss: 0.4494 - val_accuracy: 0.7954\n",
            "Epoch 23/100\n",
            "313/313 [==============================] - 3s 8ms/step - loss: 0.4276 - accuracy: 0.8069 - val_loss: 0.4479 - val_accuracy: 0.7952\n",
            "Epoch 24/100\n",
            "313/313 [==============================] - 2s 8ms/step - loss: 0.4255 - accuracy: 0.8081 - val_loss: 0.4465 - val_accuracy: 0.7924\n",
            "Epoch 25/100\n",
            "313/313 [==============================] - 3s 8ms/step - loss: 0.4243 - accuracy: 0.8110 - val_loss: 0.4449 - val_accuracy: 0.7946\n",
            "Epoch 26/100\n",
            "313/313 [==============================] - 3s 8ms/step - loss: 0.4228 - accuracy: 0.8111 - val_loss: 0.4442 - val_accuracy: 0.7930\n",
            "Epoch 27/100\n",
            "313/313 [==============================] - 3s 8ms/step - loss: 0.4213 - accuracy: 0.8127 - val_loss: 0.4473 - val_accuracy: 0.7898\n",
            "Epoch 28/100\n",
            "313/313 [==============================] - 3s 8ms/step - loss: 0.4202 - accuracy: 0.8130 - val_loss: 0.4445 - val_accuracy: 0.7940\n",
            "Epoch 29/100\n",
            "313/313 [==============================] - 3s 8ms/step - loss: 0.4194 - accuracy: 0.8123 - val_loss: 0.4443 - val_accuracy: 0.7952\n"
          ]
        }
      ]
    },
    {
      "cell_type": "code",
      "source": [
        "import matplotlib.pyplot as plt\n",
        "plt.plot(history.history['loss'])\n",
        "plt.plot(history.history['val_loss'])\n",
        "plt.xlabel('epoch')\n",
        "plt.ylabel('loss')\n",
        "plt.legend(['train', 'val'])\n",
        "plt.show()"
      ],
      "metadata": {
        "colab": {
          "base_uri": "https://localhost:8080/",
          "height": 279
        },
        "id": "lfdsiKkOD_Yd",
        "outputId": "66ef65b7-fb96-4d95-f05d-85aaba965727"
      },
      "execution_count": 17,
      "outputs": [
        {
          "output_type": "display_data",
          "data": {
            "text/plain": [
              "<Figure size 432x288 with 1 Axes>"
            ],
            "image/png": "[encoded data removed]"
          },
          "metadata": {
            "needs_background": "light"
          }
        }
      ]
    }
  ]
}